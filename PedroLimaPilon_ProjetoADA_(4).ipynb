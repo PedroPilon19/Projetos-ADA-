{
  "cells": [
    {
      "cell_type": "markdown",
      "metadata": {
        "id": "EwROXaFjkilF"
      },
      "source": [
        "# Projeto - Lógica de programação I"
      ]
    },
    {
      "cell_type": "markdown",
      "metadata": {
        "id": "Oau49E85mTiC"
      },
      "source": [
        "### Regras\n",
        "\n",
        "* Se você precisar de uma função para computar algo crie ela\n",
        "* Não é permitido usar nenhum módulo externo como numpy e math\n",
        "* Use apenas os objetos e fluxos visto até o momento no curso\n",
        "\n",
        "### Entrega\n",
        "\n",
        "* Entrega até dia 27/10\n",
        "* Entrega de um notebook com a classficação de NPS desses novos clientes\n",
        "* Enviar arquivo .ipynb ou link do github através do LMS\n",
        "\n",
        "\n",
        "\n",
        "\n",
        "Objetivo\n",
        "\n",
        "Este projeto em equipe de encerramento do primeiro modulo do curso tem como finalidade desenvolver um sistema de classificação de dados baseado no algoritmo k-Nearest Neighbors (KNN), implementado completamente do zero, sem a utilização de bibliotecas ou funções prontas.\n",
        "\n",
        "A missão foi aplicar os conteúdos vistos durante o módulo de logica de programação 1 para o desenvolvimento de um código em python do funcionamento do KNN, desde o cálculo das distâncias até a escolha do valor de 'k', criando um sistema para classificar os dados.\n",
        "\n",
        "Ao final deste projeto, esperamos alcançar uma compreensão preliminar do KNN, suas nuances e desafios de implementação, bem como a capacidade de aplicar esse conhecimento para classificar os conjuntos de dados.\n"
      ]
    },
    {
      "cell_type": "markdown",
      "source": [
        "Metodologia\n",
        "\n",
        "O projeto envolveu a organização e planejamento das atividades em equipe. Os integrantes do grupo se reuniram durante a semana para elaboração do projeto. Durante essas reuniões, discutimos a divisão de tarefas, definimos os papéis de cada membro e estabelecemos um cronograma de trabalho para garantir que o projeto fosse concluído dentro do prazo estabelecido."
      ],
      "metadata": {
        "id": "pwOXv7jpO59u"
      }
    },
    {
      "cell_type": "code",
      "execution_count": null,
      "metadata": {
        "id": "fHszc1eYk-Wx"
      },
      "outputs": [],
      "source": [
        "dados = [[66707599984, 'Promotor', (51.00, 35.00, 14.00, 20.0)],\n",
        " [55695397315, 'Promotor', (49.00, 30.00, 14.00, 20.0)],\n",
        " [63743886918, 'Promotor', (47.00, 32.00, 13.00, 20.0)],\n",
        " [55941368774, 'Promotor', (46.00, 31.00, 15.00, 20.0)],\n",
        " [75486280874, 'Promotor', (50.00, 36.00, 14.00, 20.0)],\n",
        " [53164949799, 'Promotor', (54.00, 39.00, 17.00, 40.0)],\n",
        " [39898704131, 'Promotor', (46.00, 34.00, 14.00, 30.0)],\n",
        " [53740901207, 'Promotor', (50.00, 34.00, 15.00, 20.0)],\n",
        " [51735950236, 'Promotor', (44.00, 29.00, 14.00, 20.0)],\n",
        " [47305108951, 'Promotor', (49.00, 31.00, 15.00, 10.0)],\n",
        " [63858864633, 'Promotor', (54.00, 37.00, 15.00, 20.0)],\n",
        " [53363167240, 'Promotor', (48.00, 34.00, 16.00, 20.0)],\n",
        " [72133754195, 'Promotor', (48.00, 30.00, 14.00, 10.0)],\n",
        " [52802483512, 'Promotor', (43.00, 30.00, 11.00, 10.0)],\n",
        " [57925287214, 'Promotor', (48.00, 34.00, 19.00, 20.0)],\n",
        " [74354632224, 'Promotor', (50.00, 30.00, 16.00, 20.0)],\n",
        " [64020216626, 'Promotor', (50.00, 34.00, 16.00, 40.0)],\n",
        " [78223722856, 'Promotor', (52.00, 35.00, 15.00, 20.0)],\n",
        " [58245228846, 'Promotor', (52.00, 34.00, 14.00, 20.0)],\n",
        " [74490686776, 'Promotor', (47.00, 32.00, 16.00, 20.0)],\n",
        " [48646824781, 'Promotor', (48.00, 31.00, 16.00, 20.0)],\n",
        " [77381458676, 'Promotor', (54.00, 34.00, 15.00, 40.0)],\n",
        " [41615431874, 'Promotor', (52.00, 41.00, 15.00, 10.0)],\n",
        " [52163844491, 'Promotor', (55.00, 42.00, 14.00, 20.0)],\n",
        " [70276304567, 'Promotor', (49.00, 31.00, 15.00, 20.0)],\n",
        " [69119828185, 'Promotor', (50.00, 32.00, 12.00, 20.0)],\n",
        " [65441690046, 'Promotor', (55.00, 35.00, 13.00, 20.0)],\n",
        " [56457227894, 'Promotor', (49.00, 36.00, 14.00, 10.0)],\n",
        " [46939428126, 'Promotor', (44.00, 30.00, 13.00, 20.0)],\n",
        " [60979942480, 'Promotor', (51.00, 34.00, 15.00, 20.0)],\n",
        " [41648583220, 'Promotor', (50.00, 35.00, 13.00, 30.0)],\n",
        " [50376331791, 'Promotor', (45.00, 23.00, 13.00, 30.0)],\n",
        " [67008801023, 'Promotor', (44.00, 32.00, 13.00, 20.0)],\n",
        " [72149193419, 'Promotor', (50.00, 35.00, 16.00, 60.0)],\n",
        " [62830733382, 'Promotor', (51.00, 38.00, 19.00, 40.0)],\n",
        " [56716675811, 'Promotor', (48.00, 30.00, 14.00, 30.0)],\n",
        " [61089667146, 'Promotor', (51.00, 38.00, 16.00, 20.0)],\n",
        " [47795509468, 'Promotor', (46.00, 32.00, 14.00, 20.0)],\n",
        " [60899885693, 'Promotor', (53.00, 37.00, 15.00, 20.0)],\n",
        " [53433670705, 'Promotor', (50.00, 33.00, 14.00, 20.0)],\n",
        " [54850120580, 'Neutro', (70.00, 32.00, 47.00, 14.00)],\n",
        " [71457789994, 'Neutro', (64.00, 32.00, 45.00, 15.00)],\n",
        " [67692777563, 'Neutro', (69.00, 31.00, 49.00, 15.00)],\n",
        " [43133573182, 'Neutro', (55.00, 23.00, 40.00, 13.00)],\n",
        " [55150612815, 'Neutro', (65.00, 28.00, 46.00, 15.00)],\n",
        " [48211725243, 'Neutro', (57.00, 28.00, 45.00, 13.00)],\n",
        " [76686463776, 'Neutro', (63.00, 33.00, 47.00, 16.00)],\n",
        " [71971000560, 'Neutro', (49.00, 24.00, 33.00, 10.00)],\n",
        " [40307235992, 'Neutro', (66.00, 29.00, 46.00, 13.00)],\n",
        " [44826533081, 'Neutro', (52.00, 27.00, 39.00, 14.00)],\n",
        " [45735414894, 'Neutro', (59.00, 32.00, 48.00, 18.00)],\n",
        " [57137146514, 'Neutro', (61.00, 28.00, 40.00, 13.00)],\n",
        " [53657058251, 'Neutro', (63.00, 25.00, 49.00, 15.00)],\n",
        " [52941460485, 'Neutro', (61.00, 28.00, 47.00, 12.00)],\n",
        " [44306600683, 'Neutro', (64.00, 29.00, 43.00, 13.00)],\n",
        " [43460747924, 'Neutro', (66.00, 30.00, 44.00, 14.00)],\n",
        " [75590376075, 'Neutro', (68.00, 28.00, 48.00, 14.00)],\n",
        " [68267282206, 'Neutro', (67.00, 30.00, 50.00, 17.00)],\n",
        " [77567920298, 'Neutro', (60.00, 29.00, 45.00, 15.00)],\n",
        " [67600419504, 'Neutro', (57.00, 26.00, 35.00, 10.00)],\n",
        " [44902189811, 'Neutro', (55.00, 24.00, 38.00, 11.00)],\n",
        " [62966866614, 'Neutro', (55.00, 24.00, 37.00, 10.00)],\n",
        " [56182108880, 'Neutro', (58.00, 27.00, 39.00, 12.00)],\n",
        " [78299785392, 'Neutro', (60.00, 27.00, 51.00, 16.00)],\n",
        " [45206071878, 'Neutro', (54.00, 30.00, 45.00, 15.00)],\n",
        " [57381925887, 'Neutro', (60.00, 34.00, 45.00, 16.00)],\n",
        " [65654934891, 'Neutro', (67.00, 31.00, 47.00, 15.00)],\n",
        " [56130640481, 'Neutro', (63.00, 23.00, 44.00, 13.00)],\n",
        " [59667611672, 'Neutro', (56.00, 30.00, 41.00, 13.00)],\n",
        " [40349334385, 'Neutro', (55.00, 25.00, 40.00, 13.00)],\n",
        " [68422640081, 'Neutro', (55.00, 26.00, 44.00, 12.00)],\n",
        " [55245923439, 'Neutro', (61.00, 30.00, 46.00, 14.00)],\n",
        " [51286696873, 'Neutro', (58.00, 26.00, 40.00, 12.00)],\n",
        " [41065279767, 'Neutro', (50.00, 23.00, 33.00, 10.00)],\n",
        " [42866454119, 'Neutro', (56.00, 27.00, 42.00, 13.00)],\n",
        " [61962944542, 'Neutro', (57.00, 30.00, 42.00, 12.00)],\n",
        " [48623501235, 'Neutro', (57.00, 29.00, 42.00, 13.00)],\n",
        " [49475220139, 'Neutro', (62.00, 29.00, 43.00, 13.00)],\n",
        " [52245218531, 'Neutro', (51.00, 25.00, 30.00, 11.00)],\n",
        " [50932926697, 'Neutro', (57.00, 28.00, 41.00, 13.00)],\n",
        " [47432932248, 'Detrator', (63.00, 33.00, 60.00, 25.00)],\n",
        " [39321991579, 'Detrator', (58.00, 27.00, 51.00, 19.00)],\n",
        " [46283759608, 'Detrator', (71.00, 30.00, 59.00, 21.00)],\n",
        " [56996272538, 'Detrator', (63.00, 29.00, 56.00, 18.00)],\n",
        " [77232189978, 'Detrator', (65.00, 30.00, 58.00, 22.00)],\n",
        " [77183282421, 'Detrator', (76.00, 30.00, 66.00, 21.00)],\n",
        " [42857147573, 'Detrator', (49.00, 25.00, 45.00, 17.00)],\n",
        " [39331584043, 'Detrator', (73.00, 29.00, 63.00, 18.00)],\n",
        " [48130345228, 'Detrator', (67.00, 25.00, 58.00, 18.00)],\n",
        " [71422443953, 'Detrator', (72.00, 36.00, 61.00, 25.00)],\n",
        " [72508507904, 'Detrator', (69.00, 32.00, 57.00, 23.00)],\n",
        " [41188727558, 'Detrator', (56.00, 28.00, 49.00, 20.00)],\n",
        " [61358776640, 'Detrator', (77.00, 28.00, 67.00, 20.00)],\n",
        " [66934042323, 'Detrator', (63.00, 27.00, 49.00, 18.00)],\n",
        " [40622495567, 'Detrator', (67.00, 33.00, 57.00, 21.00)],\n",
        " [57221661311, 'Detrator', (72.00, 32.00, 60.00, 18.00)],\n",
        " [45159362930, 'Detrator', (62.00, 28.00, 48.00, 18.00)],\n",
        " [45018975174, 'Detrator', (61.00, 30.00, 49.00, 18.00)],\n",
        " [70685429140, 'Detrator', (64.00, 28.00, 56.00, 21.00)],\n",
        " [61808723477, 'Detrator', (72.00, 30.00, 58.00, 16.00)],\n",
        " [56363906548, 'Detrator', (74.00, 28.00, 61.00, 19.00)],\n",
        " [39646194720, 'Detrator', (79.00, 38.00, 64.00, 20.00)],\n",
        " [55385494438, 'Detrator', (64.00, 28.00, 56.00, 22.00)],\n",
        " [75796138061, 'Detrator', (63.00, 28.00, 51.00, 15.00)],\n",
        " [53595767857, 'Detrator', (61.00, 26.00, 56.00, 14.00)],\n",
        " [48758828080, 'Detrator', (77.00, 30.00, 61.00, 23.00)],\n",
        " [58387651356, 'Detrator', (63.00, 34.00, 56.00, 24.00)],\n",
        " [72846931192, 'Detrator', (64.00, 31.00, 55.00, 18.00)],\n",
        " [47046896346, 'Detrator', (60.00, 30.00, 48.00, 18.00)],\n",
        " [69730292799, 'Detrator', (69.00, 31.00, 54.00, 21.00)],\n",
        " [48177836349, 'Detrator', (67.00, 31.00, 56.00, 24.00)],\n",
        " [57976326635, 'Detrator', (69.00, 31.00, 51.00, 23.00)],\n",
        " [55710813002, 'Detrator', (58.00, 27.00, 51.00, 19.00)],\n",
        " [64028580439, 'Detrator', (68.00, 32.00, 59.00, 23.00)],\n",
        " [49962942971, 'Detrator', (67.00, 33.00, 57.00, 25.00)],\n",
        " [47250893163, 'Detrator', (67.00, 30.00, 52.00, 23.00)],\n",
        " [75559276274, 'Detrator', (63.00, 25.00, 50.00, 19.00)],\n",
        " [58529878272, 'Detrator', (65.00, 30.00, 52.00, 20.00)],\n",
        " [76005896622, 'Detrator', (62.00, 34.00, 54.00, 23.00)],\n",
        " [49212614633, 'Detrator', (59.00, 30.00, 51.00, 18.00)]]\n",
        "\n",
        "sem_classificacao = [[45926320819, '', (58.00, 40.00, 12.00, 20.0)],\n",
        " [52559670741, '', (57.00, 44.00, 15.00, 40.0)],\n",
        " [59016004832, '', (54.00, 39.00, 13.00, 40.0)],\n",
        " [66175672425, '', (51.00, 35.00, 14.00, 30.0)],\n",
        " [53330429526, '', (57.00, 38.00, 17.00, 30.0)],\n",
        " [43765563403, '', (51.00, 38.00, 15.00, 30.0)],\n",
        " [68020822591, '', (54.00, 34.00, 17.00, 20.0)],\n",
        " [53939481689, '', (51.00, 37.00, 15.00, 40.0)],\n",
        " [47014057561, '', (46.00, 36.00, 10.00, 20.0)],\n",
        " [57183542047, '', (51.00, 33.00, 17.00, 50.0)],\n",
        "\n",
        " [68518284363, '', (50.00, 20.00, 35.00, 10.00)],\n",
        " [65806049885, '', (59.00, 30.00, 42.00, 15.00)],\n",
        " [54128073086, '', (60.00, 22.00, 40.00, 10.00)],\n",
        " [41306785494, '', (61.00, 29.00, 47.00, 14.00)],\n",
        " [65234831039, '', (56.00, 29.00, 36.00, 13.00)],\n",
        " [50964498067, '', (67.00, 31.00, 44.00, 14.00)],\n",
        " [50810951429, '', (56.00, 30.00, 45.00, 15.00)],\n",
        " [48765044397, '', (58.00, 27.00, 41.00, 10.00)],\n",
        " [41960083761, '', (62.00, 22.00, 45.00, 15.00)],\n",
        " [76657763082, '', (56.00, 25.00, 39.00, 11.00)],\n",
        "\n",
        " [64726487742, '', (65.00, 32.00, 51.00, 20.00)],\n",
        " [75746566283, '', (64.00, 27.00, 53.00, 19.00)],\n",
        " [78576734793, '', (68.00, 30.00, 55.00, 21.00)],\n",
        " [56440141847, '', (57.00, 25.00, 50.00, 20.00)],\n",
        " [66827423000, '', (58.00, 28.00, 51.00, 24.00)],\n",
        " [45267873396, '', (64.00, 32.00, 53.00, 23.00)],\n",
        " [46387191493, '', (65.00, 30.00, 55.00, 18.00)],\n",
        " [54273611732, '', (77.00, 38.00, 67.00, 22.00)],\n",
        " [75135392881, '', (77.00, 26.00, 69.00, 23.00)],\n",
        " [64703873108, '', (60.00, 22.00, 50.00, 15.00)]]"
      ]
    },
    {
      "cell_type": "markdown",
      "metadata": {
        "id": "3U5UswDNmuFl"
      },
      "source": [
        "* Criando uma função para calcular a distância entre dois valores/pontos"
      ]
    },
    {
      "cell_type": "code",
      "execution_count": null,
      "metadata": {
        "id": "YskXORhvmtKW"
      },
      "outputs": [],
      "source": [
        "# Calcula a distância entre os valores contidos nas tuplas data e no_class\n",
        "# Para os dados fornecidos as tuplas tem o mesmo tamanho\n",
        "def distancia_entre_dois_pontos(ponto1, ponto2):\n",
        "\n",
        "    distancia = 0  # Atribui zero ao contador distancia\n",
        "\n",
        "    for i in range(len(ponto1)):   # O loop percorre a tupla para calcular a diferença dos pontos\n",
        "        distancia += (ponto1[i] - ponto2[i]) ** 2 # Calcula a diferença entre os elementos  de ponto1 e ponto2 e eleva ao quadrado e acrescenta na variável distancia'\n",
        "\n",
        "\n",
        "    return (distancia ** 0.5)"
      ]
    },
    {
      "cell_type": "markdown",
      "metadata": {
        "id": "erZpAISNufPt"
      },
      "source": [
        "* Criando uma função para classificar um cliente"
      ]
    },
    {
      "cell_type": "code",
      "execution_count": null,
      "metadata": {
        "id": "3rQPoHn7uiY1"
      },
      "outputs": [],
      "source": [
        "def classifica_cliente(cliente, dados, k):\n",
        "    # Calcula as distâncias entre o cliente e todos os dados conhecidos\n",
        "    distancias = [(dado, distancia_entre_dois_pontos(cliente[2], dado[2])) for dado in dados]\n",
        "    # Ordena as distâncias em ordem crescente\n",
        "    distancias.sort(key=lambda x: x[1])\n",
        "    # Seleciona os k vizinhos mais próximos\n",
        "    k_vizinhos = distancias[:k]\n",
        "\n",
        "    # Obtém as classes dos vizinhos mais próximos\n",
        "    classes_vizinhos = [vizinho[0][1] for vizinho in k_vizinhos]\n",
        "    # Encontra a classe mais frequente entre os vizinhos\n",
        "    classe_mais_frequente = max(set(classes_vizinhos), key=classes_vizinhos.count)\n",
        "\n",
        "    return classe_mais_frequente"
      ]
    },
    {
      "cell_type": "markdown",
      "metadata": {
        "id": "Z3Bx7qssusqS"
      },
      "source": [
        "* Criando uma função para classificar uma lista de clientes"
      ]
    },
    {
      "cell_type": "code",
      "execution_count": null,
      "metadata": {
        "id": "V-bX6OVZuvoK"
      },
      "outputs": [],
      "source": [
        "def classifica_clientes(dados, sem_classificacao, k):\n",
        "    # Faz um loop sobre os clientes não classificados e, para cada um deles, chama a função classifica_cliente\n",
        "    # O resultado é armazenado na lista previsoes\n",
        "    previsoes = [classifica_cliente(cliente, dados, k) for cliente in sem_classificacao]\n",
        "\n",
        "    return previsoes"
      ]
    },
    {
      "cell_type": "markdown",
      "metadata": {
        "id": "ZvEjQec5u23y"
      },
      "source": [
        "* Classificando os dados *sem_classificacao* com k fonecido pelo usuário."
      ]
    },
    {
      "cell_type": "code",
      "execution_count": null,
      "metadata": {
        "id": "qAs_w1Vuu_lH",
        "colab": {
          "base_uri": "https://localhost:8080/"
        },
        "outputId": "30fc1222-d14e-4a20-8d32-accf6f3244fc"
      },
      "outputs": [
        {
          "name": "stdout",
          "output_type": "stream",
          "text": [
            "Digite um valor para K: 4\n"
          ]
        }
      ],
      "source": [
        "#Solicita que o usuário informe o valor de k\n",
        "k = int(input('Digite um valor para K: '))\n",
        "#Chama uma função chamada classifica_clientes passando como argumentos: dados, sem_classificacao e k.\n",
        "previsoes = classifica_clientes(dados, sem_classificacao, k)"
      ]
    },
    {
      "cell_type": "markdown",
      "metadata": {
        "id": "gEyrdAQDvKJC"
      },
      "source": [
        "* Print das previsões"
      ]
    },
    {
      "cell_type": "code",
      "execution_count": null,
      "metadata": {
        "colab": {
          "base_uri": "https://localhost:8080/"
        },
        "id": "rI3r4KXbvMNd",
        "outputId": "a9c3d1cc-60e8-43af-c512-769d03ad7b25"
      },
      "outputs": [
        {
          "output_type": "stream",
          "name": "stdout",
          "text": [
            "O CPF 45926320819 foi classificado como 'Promotor'\n",
            "O CPF 52559670741 foi classificado como 'Promotor'\n",
            "O CPF 59016004832 foi classificado como 'Promotor'\n",
            "O CPF 66175672425 foi classificado como 'Promotor'\n",
            "O CPF 53330429526 foi classificado como 'Promotor'\n",
            "O CPF 43765563403 foi classificado como 'Promotor'\n",
            "O CPF 68020822591 foi classificado como 'Promotor'\n",
            "O CPF 53939481689 foi classificado como 'Promotor'\n",
            "O CPF 47014057561 foi classificado como 'Promotor'\n",
            "O CPF 57183542047 foi classificado como 'Promotor'\n",
            "O CPF 68518284363 foi classificado como 'Neutro'\n",
            "O CPF 65806049885 foi classificado como 'Neutro'\n",
            "O CPF 54128073086 foi classificado como 'Neutro'\n",
            "O CPF 41306785494 foi classificado como 'Neutro'\n",
            "O CPF 65234831039 foi classificado como 'Neutro'\n",
            "O CPF 50964498067 foi classificado como 'Neutro'\n",
            "O CPF 50810951429 foi classificado como 'Neutro'\n",
            "O CPF 48765044397 foi classificado como 'Neutro'\n",
            "O CPF 41960083761 foi classificado como 'Neutro'\n",
            "O CPF 76657763082 foi classificado como 'Neutro'\n",
            "O CPF 64726487742 foi classificado como 'Detrator'\n",
            "O CPF 75746566283 foi classificado como 'Detrator'\n",
            "O CPF 78576734793 foi classificado como 'Detrator'\n",
            "O CPF 56440141847 foi classificado como 'Detrator'\n",
            "O CPF 66827423000 foi classificado como 'Detrator'\n",
            "O CPF 45267873396 foi classificado como 'Detrator'\n",
            "O CPF 46387191493 foi classificado como 'Detrator'\n",
            "O CPF 54273611732 foi classificado como 'Detrator'\n",
            "O CPF 75135392881 foi classificado como 'Detrator'\n",
            "O CPF 64703873108 foi classificado como 'Detrator'\n"
          ]
        }
      ],
      "source": [
        "# Laço para obter o índice e o valor  da lista sem_classificacao\n",
        "for i, cliente in enumerate(sem_classificacao):\n",
        "    # Atribui à vaiável cpf o primeiro elemento.\n",
        "    cpf = cliente[0]\n",
        "    # Obtém a classe prevista para o cliente\n",
        "    classe_previsao = previsoes[i]\n",
        "\n",
        "    print(f\"O CPF {cpf} foi classificado como '{classe_previsao}'\")"
      ]
    },
    {
      "cell_type": "markdown",
      "source": [
        "## Conclusão"
      ],
      "metadata": {
        "id": "Criu2OdiSGrI"
      }
    },
    {
      "cell_type": "markdown",
      "source": [
        "Para resolver o problema apresentado, foi realizada a implementação do algoritmo K-nearest neighbors (KNN) para classificar os clientes com base na classificação dos dados mais próximos.\n",
        "\n",
        "Foi implementada  uma função para calcular a distância entre dois pontos, uma função para classificar um cliente individual e uma função para classificar vários clientes sem classificação.\n",
        "\n",
        "Ao realizar testes com diferentes valores de K, foi verificado que não houve mudanças muito significativas na classificação para k inferior a dez. Dos trinta dados classificados, dez foram classificados como 'promotor', dez como 'neutro' e dez como 'detrator' usando valores para k de um a nove.\n",
        "\n",
        "Observamos uma pequena mudança quando escolhíamos um número par para k, sendo esta a alteração do CPF: 64703873108 que foi classificado como 'detrator’ em número impar e como ‘neutro’ quando k era um número par; acreditamos que isso se deve por não considerarmos no código um método de desempate para esses casos. Para valores de k maiores que 10 o modelo apresenta variação significativa na classificação, possivelmente devido às limitações do número de amostras para o treinamento do sistema.\n",
        "\n",
        "Com o desenvolvimento do projeto, exercitamos os conhecimentos adquiridos durante as aulas, principalmente em relação à manipulação de listas, tuplas e funções e utilização de estruturas de repetição."
      ],
      "metadata": {
        "id": "kE3s5vaBSV5B"
      }
    }
  ],
  "metadata": {
    "colab": {
      "provenance": []
    },
    "kernelspec": {
      "display_name": "Python 3",
      "name": "python3"
    },
    "language_info": {
      "codemirror_mode": {
        "name": "ipython",
        "version": 3
      },
      "file_extension": ".py",
      "mimetype": "text/x-python",
      "name": "python",
      "nbconvert_exporter": "python",
      "pygments_lexer": "ipython3",
      "version": "3.11.4"
    }
  },
  "nbformat": 4,
  "nbformat_minor": 0
}